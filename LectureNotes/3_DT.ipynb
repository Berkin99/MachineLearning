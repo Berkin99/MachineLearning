{
 "cells": [
  {
   "cell_type": "markdown",
   "id": "a45bc708",
   "metadata": {},
   "source": [
    "# **3. DT**"
   ]
  },
  {
   "cell_type": "markdown",
   "id": "db6c6393",
   "metadata": {},
   "source": [
    "- **Intuitive and Easy to Understand**: Decision trees are simple to interpret and visualize, as they follow a flowchart-like structure. Each internal node represents a decision based on a feature, and each leaf node represents a class label or a continuous value (for regression).\n",
    "\n",
    "- **No Feature Scaling Required**: Unlike algorithms like KNN or SVM, decision trees do not require normalization or scaling of features, making them relatively easy to preprocess and apply.\n",
    "\n",
    "- **Can Handle Both Categorical and Numerical Data**: Decision trees are versatile in handling different types of data, including categorical and numerical variables, making them suitable for a variety of applications.\n",
    "\n",
    "- **Non-Linear Relationships**: Decision trees are inherently capable of modeling non-linear decision boundaries. They can divide the feature space into arbitrary regions, making them very flexible in capturing complex patterns in the data.\n",
    "\n",
    "- **Model Interpretability**: One of the key advantages of decision trees is their **interpretability**. The tree structure itself is easy to follow, and you can clearly see how the model makes its decisions.\n",
    "\n",
    "- **Overfitting Risk**: Decision trees are prone to overfitting, especially when they are deep (i.e., have many levels). They can create overly complex models that fit noise in the data, reducing generalization performance. This can be controlled using pruning or setting constraints (e.g., limiting the depth).\n",
    "\n",
    "- **Pruning to Prevent Overfitting**: To prevent overfitting, decision trees can be **pruned**, which means removing branches that provide little predictive power. Pruning helps to simplify the tree and improve its ability to generalize to unseen data.\n",
    "\n",
    "- **Handles Missing Data**: Some decision tree algorithms are capable of handling missing data by choosing the best possible split given the available data or imputing missing values based on a strategy like the most frequent class.\n",
    "\n",
    "- **Works Well with Outliers**: Decision trees are relatively robust to outliers since they split the data into smaller regions, and extreme values might be isolated in a separate branch of the tree.\n",
    "\n",
    "- **Can Handle Multi-class Problems**: Decision trees can naturally handle multi-class classification tasks without requiring any modification or adaptation, unlike algorithms like SVM, which may require one-vs-one or one-vs-rest approaches.\n",
    "\n",
    "- **Feature Importance**: Decision trees automatically compute feature importance by evaluating which features contribute most to reducing uncertainty (entropy or Gini impurity). This can be used for feature selection in high-dimensional datasets.\n",
    "\n",
    "- **Computational Complexity**:  \n",
    "  - **Training**: O(n * log(n)) for small datasets, but grows more complex for large datasets, as it needs to evaluate splits for each feature and calculate metrics like entropy or Gini index.\n",
    "  - **Prediction**: O(log(n)) — once the tree is built, predictions are fast, as they involve traversing the tree from the root to a leaf.\n",
    "\n",
    "- **Sensitive to Data Distribution**: Decision trees can be biased if the data is imbalanced. If one class is overrepresented, the tree might favor that class when making splits. Techniques like class weighting or resampling can help mitigate this issue.\n",
    "\n",
    "- **Handles Complex Interactions**: Since decision trees split data recursively on different features, they can model complex interactions between features that might be hard for linear models to capture.\n",
    "\n",
    "- **Ensemble Methods (Random Forests and Boosting)**: Decision trees are often used as the base models in ensemble learning methods such as **Random Forests** and **Gradient Boosting**. These techniques combine multiple trees to create more robust and accurate models.\n",
    "\n",
    "- **Training Speed**: Decision trees tend to be relatively fast to train compared to other machine learning models like neural networks or SVMs, especially for small to medium-sized datasets.\n",
    "\n",
    "- **Non-Convex Objective**: Training a decision tree involves splitting nodes based on metrics like Gini impurity or entropy, which leads to a non-convex optimization problem. However, the greedy nature of decision tree construction makes it prone to local optima.\n",
    "\n",
    "---\n",
    "\n",
    "### **Advantages of Decision Trees:**\n",
    "- Simple, intuitive, and easy to visualize.\n",
    "- No feature scaling required.\n",
    "- Can handle both numerical and categorical data.\n",
    "- Can model non-linear relationships.\n",
    "- Provides feature importance.\n",
    "- Naturally handles multi-class problems.\n",
    "\n",
    "### **Disadvantages of Decision Trees:**\n",
    "- Prone to overfitting, especially with deep trees.\n",
    "- Sensitive to small changes in data (unstable).\n",
    "- Can be biased if data is imbalanced.\n",
    "- Greedy nature may not always lead to the globally optimal solution.\n",
    "\n",
    "---\n",
    "\n",
    "### **Pruning and Regularization**:\n",
    "- **Post-Pruning**: After growing a tree, branches that do not improve the model are removed.\n",
    "- **Pre-Pruning**: Limiting the depth of the tree or setting a minimum number of samples required for a split can prevent overfitting during training.\n",
    "\n"
   ]
  }
 ],
 "metadata": {
  "language_info": {
   "name": "python"
  }
 },
 "nbformat": 4,
 "nbformat_minor": 5
}
